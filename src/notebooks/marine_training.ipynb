{
 "cells": [
  {
   "cell_type": "code",
   "execution_count": 3,
   "metadata": {},
   "outputs": [
    {
     "name": "stdout",
     "output_type": "stream",
     "text": [
      "Downloading data from https://homl.info/shakespeare\n",
      "\u001b[1m1115394/1115394\u001b[0m \u001b[32m━━━━━━━━━━━━━━━━━━━━\u001b[0m\u001b[37m\u001b[0m \u001b[1m0s\u001b[0m 0us/step\n",
      "Path to dataset files: /Users/jobjornrokenesmyren/.keras/datasets/shakespear.txt\n"
     ]
    }
   ],
   "source": [
    "import tensorflow as tf\n",
    "\n",
    "# Download latest version\n",
    "filepath = tf.keras.utils.get_file(\"shakespear.txt\", \"https://homl.info/shakespeare\")\n",
    "\n",
    "print(\"Path to dataset files:\", filepath)"
   ]
  },
  {
   "cell_type": "code",
   "execution_count": 25,
   "metadata": {},
   "outputs": [
    {
     "name": "stdout",
     "output_type": "stream",
     "text": [
      "First Citizen:\n",
      "Before we proceed any further, hear me speak.\n",
      "\n",
      "All:\n",
      "Speak, speak.\n",
      "\n",
      "First Citizen:\n",
      "You are all resolved rather to die than to famish?\n",
      "\n",
      "All:\n",
      "Resolved. resolved.\n",
      "\n",
      "First Citizen:\n",
      "First, you know Caius Marcius is chief enemy to the people.\n",
      "\n",
      "All:\n",
      "We know't, we know't.\n",
      "\n",
      "First Citizen:\n",
      "Let us kill him, and we'll have corn at our own price.\n",
      "Is't a verdict?\n",
      "\n",
      "All:\n",
      "No more talking on't; let it be done: away, away!\n",
      "\n",
      "Second Citizen:\n",
      "One word, good citizens.\n",
      "\n",
      "First Citizen:\n",
      "We are accounted poor\n"
     ]
    }
   ],
   "source": [
    "with open(filepath, encoding='utf-8', errors='replace') as f:\n",
    "    shakespeare_text = f.read()\n",
    "print(shakespeare_text[:500])"
   ]
  },
  {
   "cell_type": "code",
   "execution_count": 27,
   "metadata": {},
   "outputs": [
    {
     "name": "stdout",
     "output_type": "stream",
     "text": [
      "Encoded type: <class 'numpy.ndarray'>\n",
      "Encoded shape: (1115394,)\n"
     ]
    }
   ],
   "source": [
    "text_vect_layer = tf.keras.layers.TextVectorization(split=\"character\", standardize=\"lower\")\n",
    "text_vect_layer.adapt([shakespear_text])\n",
    "encoded = text_vect_layer([shakespear_text])  # Note the list around shakespear_text\n",
    "\n",
    "# Now, encoded has shape (1, sequence_length). Remove the batch dimension:\n",
    "encoded = encoded[0]\n",
    "encoded = encoded.numpy()\n",
    "\n",
    "print(\"Encoded type:\", type(encoded))\n",
    "print(\"Encoded shape:\", encoded.shape)\n"
   ]
  },
  {
   "cell_type": "code",
   "execution_count": 28,
   "metadata": {},
   "outputs": [
    {
     "name": "stdout",
     "output_type": "stream",
     "text": [
      "Original encoded shape: (1115394,)\n"
     ]
    },
    {
     "ename": "AttributeError",
     "evalue": "'numpy.ndarray' object has no attribute 'numpy'",
     "output_type": "error",
     "traceback": [
      "\u001b[31m---------------------------------------------------------------------------\u001b[39m",
      "\u001b[31mAttributeError\u001b[39m                            Traceback (most recent call last)",
      "\u001b[36mCell\u001b[39m\u001b[36m \u001b[39m\u001b[32mIn[28]\u001b[39m\u001b[32m, line 12\u001b[39m\n\u001b[32m      9\u001b[39m \u001b[38;5;28;01mif\u001b[39;00m \u001b[38;5;28mlen\u001b[39m(encoded.shape) > \u001b[32m0\u001b[39m \u001b[38;5;129;01mand\u001b[39;00m encoded.shape[\u001b[32m0\u001b[39m] == \u001b[32m1\u001b[39m:\n\u001b[32m     10\u001b[39m     encoded = encoded[\u001b[32m0\u001b[39m]\n\u001b[32m---> \u001b[39m\u001b[32m12\u001b[39m encoded = \u001b[43mencoded\u001b[49m\u001b[43m.\u001b[49m\u001b[43mnumpy\u001b[49m()\n\u001b[32m     14\u001b[39m dataset_size = \u001b[38;5;28mlen\u001b[39m(encoded)\n\u001b[32m     15\u001b[39m \u001b[38;5;28mprint\u001b[39m(\u001b[33m\"\u001b[39m\u001b[33mType of encoded:\u001b[39m\u001b[33m\"\u001b[39m, \u001b[38;5;28mtype\u001b[39m(encoded))\n",
      "\u001b[31mAttributeError\u001b[39m: 'numpy.ndarray' object has no attribute 'numpy'"
     ]
    }
   ],
   "source": [
    "import numpy as np\n",
    "encoded -= 2\n",
    "n_tokens = text_vect_layer.vocabulary_size() - 2\n",
    "\n",
    "# Inspect the shape before slicing\n",
    "print(\"Original encoded shape:\", encoded.shape)\n",
    "\n",
    "# If the tensor is batched (e.g., shape (1, sequence_length)), slice the batch dimension.\n",
    "if len(encoded.shape) > 0 and encoded.shape[0] == 1:\n",
    "    encoded = encoded[0]\n",
    "\n",
    "encoded = encoded.numpy()\n",
    "\n",
    "dataset_size = len(encoded)\n",
    "print(\"Type of encoded:\", type(encoded))\n",
    "print(\"Shape of encoded after slicing:\", encoded.shape)\n",
    "print(\"Number of chars:\", n_tokens)\n",
    "print(\"Dataset size:\", dataset_size)\n"
   ]
  },
  {
   "cell_type": "code",
   "execution_count": 29,
   "metadata": {},
   "outputs": [],
   "source": [
    "def to_dataset(sequence, length, shuffle=False, seed=None, batch_size=32):\n",
    "    # Create a dataset from the sequence\n",
    "    dataset = tf.data.Dataset.from_tensor_slices(sequence)\n",
    "    \n",
    "    # Create windows of size (length + 1)\n",
    "    dataset = dataset.window(length + 1, shift=1, drop_remainder=True)\n",
    "    \n",
    "    # Convert each window into a tensor of size (length + 1)\n",
    "    dataset = dataset.flat_map(lambda window: window.batch(length + 1))\n",
    "    \n",
    "    # Optionally shuffle the dataset\n",
    "    if shuffle:\n",
    "        dataset = dataset.shuffle(10000, seed=seed)\n",
    "    \n",
    "    # Split each window into input and target by shifting one token\n",
    "    dataset = dataset.map(lambda window: (window[:-1], window[1:]))\n",
    "    \n",
    "    # Batch the dataset and prefetch for performance\n",
    "    dataset = dataset.batch(batch_size).prefetch(1)\n",
    "    return dataset\n"
   ]
  },
  {
   "cell_type": "code",
   "execution_count": 30,
   "metadata": {},
   "outputs": [],
   "source": [
    "length = 100\n",
    "tf.random.set_seed(42)\n",
    "train_set = to_dataset(encoded[:1_000_000], length, shuffle = True, seed = 42)\n",
    "valid_set = to_dataset(encoded[1_000_000:1_200_000], length)\n",
    "test_set = to_dataset(encoded[1_200_000:], length)"
   ]
  },
  {
   "cell_type": "code",
   "execution_count": null,
   "metadata": {},
   "outputs": [
    {
     "name": "stdout",
     "output_type": "stream",
     "text": [
      "Epoch 1/20\n"
     ]
    },
    {
     "name": "stderr",
     "output_type": "stream",
     "text": [
      "/Users/jobjornrokenesmyren/IT Batchelor/v25/SemesterProject255/RNNMarine/venv/lib/python3.12/site-packages/keras/src/layers/core/embedding.py:93: UserWarning: Do not pass an `input_shape`/`input_dim` argument to a layer. When using Sequential models, prefer using an `Input(shape)` object as the first layer in the model instead.\n",
      "  super().__init__(**kwargs)\n"
     ]
    },
    {
     "name": "stdout",
     "output_type": "stream",
     "text": [
      "   2228/Unknown \u001b[1m156s\u001b[0m 69ms/step - accuracy: 0.4053 - loss: 2.0660"
     ]
    }
   ],
   "source": [
    "model = tf.keras.models.Sequential([\n",
    "    tf.keras.layers.Embedding(input_dim=n_tokens, output_dim=16, input_shape=[None]),\n",
    "    tf.keras.layers.GRU(128, return_sequences=True),\n",
    "    tf.keras.layers.TimeDistributed(tf.keras.layers.Dense(n_tokens, activation=\"softmax\"))\n",
    "])\n",
    "model.compile(loss=\"sparse_categorical_crossentropy\", optimizer=\"adam\", metrics=[\"accuracy\"])\n",
    "model_ckpt = tf.keras.callbacks.ModelCheckpoint(\"my_shakespear_model.keras\", monitor=\"val_accuracy\", save_best_only=True)\n",
    "history = model.fit(train_set, epochs=20, validation_data=valid_set, callbacks=[model_ckpt])"
   ]
  },
  {
   "cell_type": "code",
   "execution_count": null,
   "metadata": {},
   "outputs": [],
   "source": []
  }
 ],
 "metadata": {
  "kernelspec": {
   "display_name": "venv",
   "language": "python",
   "name": "python3"
  },
  "language_info": {
   "codemirror_mode": {
    "name": "ipython",
    "version": 3
   },
   "file_extension": ".py",
   "mimetype": "text/x-python",
   "name": "python",
   "nbconvert_exporter": "python",
   "pygments_lexer": "ipython3",
   "version": "3.12.4"
  }
 },
 "nbformat": 4,
 "nbformat_minor": 2
}
