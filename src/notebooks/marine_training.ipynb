{
 "cells": [
  {
   "cell_type": "code",
   "execution_count": null,
   "metadata": {},
   "outputs": [],
   "source": [
    "import tensorflow as tf\n",
    "\n",
    "# Download latest version\n",
    "filepath = tf.keras.utils.get_file(\"marine.txt\", \"https://www.kaggle.com/api/v1/datasets/download/linogova/marine-radio-chatter-bridge-to-bridge-transcript?dataset_version_number=1\")\n",
    "\n",
    "print(\"Path to dataset files:\", filepath)"
   ]
  },
  {
   "cell_type": "code",
   "execution_count": null,
   "metadata": {},
   "outputs": [],
   "source": [
    "with open(filepath, encoding='utf-8', errors='replace') as f:\n",
    "    marine_text = f.read()\n",
    "print(marine_text[:500])"
   ]
  },
  {
   "cell_type": "code",
   "execution_count": 1,
   "metadata": {},
   "outputs": [
    {
     "ename": "NameError",
     "evalue": "name 'tf' is not defined",
     "output_type": "error",
     "traceback": [
      "\u001b[31m---------------------------------------------------------------------------\u001b[39m",
      "\u001b[31mNameError\u001b[39m                                 Traceback (most recent call last)",
      "\u001b[36mCell\u001b[39m\u001b[36m \u001b[39m\u001b[32mIn[1]\u001b[39m\u001b[32m, line 1\u001b[39m\n\u001b[32m----> \u001b[39m\u001b[32m1\u001b[39m text_vect_layer = \u001b[43mtf\u001b[49m.keras.layers.TextVectorization(split=\u001b[33m\"\u001b[39m\u001b[33mcharacter\u001b[39m\u001b[33m\"\u001b[39m, standardize=\u001b[33m\"\u001b[39m\u001b[33mlower\u001b[39m\u001b[33m\"\u001b[39m)\n\u001b[32m      2\u001b[39m text_vect_layer.adapt([marine_text])\n\u001b[32m      3\u001b[39m encoded = text_vect_layer(marine_text)[\u001b[32m0\u001b[39m]\n",
      "\u001b[31mNameError\u001b[39m: name 'tf' is not defined"
     ]
    }
   ],
   "source": [
    "text_vect_layer = tf.keras.layers.TextVectorization(split=\"character\", standardize=\"lower\")\n",
    "text_vect_layer.adapt([marine_text])\n",
    "encoded = text_vect_layer(marine_text)[0]"
   ]
  },
  {
   "cell_type": "code",
   "execution_count": null,
   "metadata": {},
   "outputs": [],
   "source": [
    "encoded -= 2\n",
    "n_tokens = text_vect_layer.get_vocabulary_size()-2\n",
    "dataset_size = len(encoded)"
   ]
  }
 ],
 "metadata": {
  "kernelspec": {
   "display_name": "Python 3",
   "language": "python",
   "name": "python3"
  },
  "language_info": {
   "codemirror_mode": {
    "name": "ipython",
    "version": 3
   },
   "file_extension": ".py",
   "mimetype": "text/x-python",
   "name": "python",
   "nbconvert_exporter": "python",
   "pygments_lexer": "ipython3",
   "version": "3.12.8"
  }
 },
 "nbformat": 4,
 "nbformat_minor": 2
}
